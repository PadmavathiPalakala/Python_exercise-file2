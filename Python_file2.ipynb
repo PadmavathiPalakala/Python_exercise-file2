{
 "cells": [
  {
   "cell_type": "markdown",
   "metadata": {},
   "source": [
    "# Exercise 2"
   ]
  },
  {
   "cell_type": "markdown",
   "metadata": {},
   "source": [
    "# 1)Display Positive and negative integers from the user"
   ]
  },
  {
   "cell_type": "code",
   "execution_count": 5,
   "metadata": {},
   "outputs": [
    {
     "name": "stdout",
     "output_type": "stream",
     "text": [
      "Enter a integer number : 2\n"
     ]
    }
   ],
   "source": [
    "num = int(input(\"Enter a integer number : \"))  # enter a integer number"
   ]
  },
  {
   "cell_type": "code",
   "execution_count": 6,
   "metadata": {},
   "outputs": [
    {
     "name": "stdout",
     "output_type": "stream",
     "text": [
      "Positive number\n"
     ]
    }
   ],
   "source": [
    "if num >= 0:\n",
    "   if num == 0:\n",
    "       print(\"Zero\")       \n",
    "   else:\n",
    "       print(\"Positive number\")\n",
    "else:\n",
    "   print(\"Negative number\")"
   ]
  },
  {
   "cell_type": "markdown",
   "metadata": {},
   "source": [
    "# 2) Display all of the positive multiples of 7 upto and including the value entered from user where the entered value should be greater than 100"
   ]
  },
  {
   "cell_type": "code",
   "execution_count": 20,
   "metadata": {},
   "outputs": [
    {
     "name": "stdout",
     "output_type": "stream",
     "text": [
      "enter a number: 114\n",
      "valid input\n",
      "   7\n",
      "   14\n",
      "   21\n",
      "   28\n",
      "   35\n",
      "   42\n",
      "   49\n",
      "   56\n",
      "   63\n",
      "   70\n",
      "   77\n",
      "   84\n",
      "   91\n",
      "   98\n",
      "   105\n",
      "   112\n"
     ]
    }
   ],
   "source": [
    "n = int(input(\"enter a number: \")) # enter a integer number\n",
    "\n",
    "if n >= 100:\n",
    "\n",
    "    print(\"valid input\")  # displays valid input\n",
    "   \n",
    "else:\n",
    "    print(\"invalid input\") # displays invalid input\n",
    "\n",
    "    \n",
    "for i in range(1,n): \n",
    "\n",
    "    if i%7==0:           # prints multiples of 7\n",
    "\n",
    "        print(\"  \",i)"
   ]
  },
  {
   "cell_type": "markdown",
   "metadata": {},
   "source": [
    "# 3) To check whether the given number is prime or not"
   ]
  },
  {
   "cell_type": "code",
   "execution_count": 29,
   "metadata": {},
   "outputs": [
    {
     "name": "stdout",
     "output_type": "stream",
     "text": [
      "Enter a integer number: 12\n"
     ]
    }
   ],
   "source": [
    "no = int(input(\"Enter a integer number: \"))"
   ]
  },
  {
   "cell_type": "code",
   "execution_count": 30,
   "metadata": {},
   "outputs": [
    {
     "name": "stdout",
     "output_type": "stream",
     "text": [
      "12 not prime number\n",
      "2 times 6 is 12\n"
     ]
    }
   ],
   "source": [
    "if no > 1:     #no is Number\n",
    "   \n",
    "   for i in range(2,no):\n",
    "       if (no % i) == 0:\n",
    "           print(no,\"not prime number\")\n",
    "           print(i,\"times\",no//i,\"is\",no)\n",
    "           break\n",
    "   else:\n",
    "       print(no,\"is a prime number\")\n",
    "else:\n",
    "   print(no,\"not prime number\")"
   ]
  },
  {
   "cell_type": "markdown",
   "metadata": {},
   "source": [
    "# 4) Lottery Generator"
   ]
  },
  {
   "cell_type": "code",
   "execution_count": 15,
   "metadata": {},
   "outputs": [
    {
     "name": "stdout",
     "output_type": "stream",
     "text": [
      "Today's lottery numbers are: \n",
      "[10, 11, 34, 35, 41, 57]\n"
     ]
    }
   ],
   "source": [
    "import random \n",
    "\n",
    "lotteryNumbers = []      # To store numbers in the lottery           \n",
    "\n",
    "for i in range (0,6):\n",
    "  number = random.randint(1,59)\n",
    "  while number in lotteryNumbers:   #to avoid dupliactes numbers\n",
    "    \n",
    "    number = random.randint(1,59)\n",
    "   \n",
    "  lotteryNumbers.append(number)    \n",
    "\n",
    "\n",
    "lotteryNumbers.sort()    #sort is used to list numbers in ascending order\n",
    "\n",
    "#Display the list of numbers on the screen:\n",
    "print(\"Today's lottery numbers are: \") \n",
    "print(lotteryNumbers)\n",
    "#END"
   ]
  },
  {
   "cell_type": "markdown",
   "metadata": {},
   "source": [
    "# 5) Amusement Park code based on different age group display the admission cost "
   ]
  },
  {
   "cell_type": "code",
   "execution_count": 31,
   "metadata": {},
   "outputs": [
    {
     "name": "stdout",
     "output_type": "stream",
     "text": [
      "could you enter your age please ? \n",
      "Enter word '---' when your finished. 1\n",
      "No Cost\n",
      "could you enter your age please ? \n",
      "Enter word '---' when your finished. 2\n",
      "No Cost\n",
      "could you enter your age please ? \n",
      "Enter word '---' when your finished. 53\n",
      "cost  is £1999.99\n",
      "could you enter your age please ? \n",
      "Enter word '---' when your finished. 63\n",
      "cost  is £1999.99\n",
      "could you enter your age please ? \n",
      "Enter word '---' when your finished. ---\n"
     ]
    }
   ],
   "source": [
    "prompt = \"could you enter your age please ? \"\n",
    "prompt += \"\\nEnter word '---' when your finished. \"\n",
    "\n",
    "while True:\n",
    "    age = input(prompt)\n",
    "    if age == '---':\n",
    "        break\n",
    "    age = int(age)\n",
    "\n",
    "    if age <= 3:\n",
    "        print(\"No Cost\")          \n",
    "    elif age >= 3 and age <=11:\n",
    "        print(\"cost is £899.00\")  \n",
    "    elif age >= 69:\n",
    "        print (\"cost is £1490.49\")\n",
    "    else:\n",
    "        print(\"cost  is £1999.99\")"
   ]
  },
  {
   "cell_type": "code",
   "execution_count": null,
   "metadata": {},
   "outputs": [],
   "source": []
  }
 ],
 "metadata": {
  "kernelspec": {
   "display_name": "Python 3",
   "language": "python",
   "name": "python3"
  },
  "language_info": {
   "codemirror_mode": {
    "name": "ipython",
    "version": 3
   },
   "file_extension": ".py",
   "mimetype": "text/x-python",
   "name": "python",
   "nbconvert_exporter": "python",
   "pygments_lexer": "ipython3",
   "version": "3.8.3"
  }
 },
 "nbformat": 4,
 "nbformat_minor": 2
}
